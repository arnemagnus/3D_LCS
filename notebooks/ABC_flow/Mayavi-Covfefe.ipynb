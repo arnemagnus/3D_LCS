{
 "cells": [
  {
   "cell_type": "code",
   "execution_count": 1,
   "metadata": {},
   "outputs": [],
   "source": [
    "import numpy as np\n",
    "from mayavi import mlab\n",
    "\n",
    "def test_triangular_mesh():\n",
    "    \"\"\"An example of a cone, ie a non-regular mesh defined by its\n",
    "        triangles.\n",
    "    \"\"\"\n",
    "    n = 8\n",
    "    t = numpy.linspace(-numpy.pi, numpy.pi, n)\n",
    "    z = numpy.exp(1j * t)\n",
    "    x = z.real.copy()\n",
    "    y = z.imag.copy()\n",
    "    z = numpy.zeros_like(x)\n",
    "\n",
    "    triangles = [(0, i, i + 1) for i in range(1, n)]\n",
    "    x = numpy.r_[0, x]\n",
    "    y = numpy.r_[0, y]\n",
    "    z = numpy.r_[1, z]\n",
    "    t = numpy.r_[0, t]\n",
    "\n",
    "    return triangular_mesh(x, y, z, triangles, scalars=t)"
   ]
  },
  {
   "cell_type": "code",
   "execution_count": 2,
   "metadata": {},
   "outputs": [],
   "source": [
    "xs = np.load('gx.npy')\n",
    "ys = np.load('gy.npy')\n",
    "zs = np.load('gz.npy')\n",
    "ts = np.load('gt.npy')"
   ]
  },
  {
   "cell_type": "code",
   "execution_count": 3,
   "metadata": {},
   "outputs": [
    {
     "ename": "SyntaxError",
     "evalue": "invalid syntax (<ipython-input-3-2e04d5713b14>, line 1)",
     "output_type": "error",
     "traceback": [
      "\u001b[0;36m  File \u001b[0;32m\"<ipython-input-3-2e04d5713b14>\"\u001b[0;36m, line \u001b[0;32m1\u001b[0m\n\u001b[0;31m    for (x,y,z,t) in zip(xs,ys,zs,ts)\u001b[0m\n\u001b[0m                                     ^\u001b[0m\n\u001b[0;31mSyntaxError\u001b[0m\u001b[0;31m:\u001b[0m invalid syntax\n"
     ]
    }
   ],
   "source": [
    "for (x,y,z,t) in zip(xs,ys,zs,ts)"
   ]
  },
  {
   "cell_type": "code",
   "execution_count": 10,
   "metadata": {},
   "outputs": [],
   "source": [
    "a = mlab.triangular_mesh(xs[0],ys[0],zs[0],ts[0])"
   ]
  },
  {
   "cell_type": "code",
   "execution_count": null,
   "metadata": {},
   "outputs": [],
   "source": []
  }
 ],
 "metadata": {
  "kernelspec": {
   "display_name": "Python 2",
   "language": "python",
   "name": "python2"
  },
  "language_info": {
   "codemirror_mode": {
    "name": "ipython",
    "version": 2
   },
   "file_extension": ".py",
   "mimetype": "text/x-python",
   "name": "python",
   "nbconvert_exporter": "python",
   "pygments_lexer": "ipython2",
   "version": "2.7.14"
  },
  "latex_envs": {
   "LaTeX_envs_menu_present": true,
   "autoclose": false,
   "autocomplete": true,
   "bibliofile": "biblio.bib",
   "cite_by": "apalike",
   "current_citInitial": 1,
   "eqLabelWithNumbers": true,
   "eqNumInitial": 1,
   "hotkeys": {
    "equation": "Ctrl-E",
    "itemize": "Ctrl-I"
   },
   "labels_anchors": false,
   "latex_user_defs": false,
   "report_style_numbering": false,
   "user_envs_cfg": false
  }
 },
 "nbformat": 4,
 "nbformat_minor": 2
}
