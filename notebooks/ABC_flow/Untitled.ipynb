{
 "cells": [
  {
   "cell_type": "code",
   "execution_count": 5,
   "metadata": {},
   "outputs": [],
   "source": [
    "import numpy as np\n",
    "%load_ext cython"
   ]
  },
  {
   "cell_type": "code",
   "execution_count": 2,
   "metadata": {},
   "outputs": [],
   "source": [
    "xi1 = np.load('xi1.npy')"
   ]
  },
  {
   "cell_type": "code",
   "execution_count": 3,
   "metadata": {},
   "outputs": [],
   "source": [
    "# Advection parameters\n",
    "t0 = 0\n",
    "tf = 1\n",
    "h = 0.1\n",
    "#flowmap_integrator = rkdp87\n",
    "\n",
    "# Grid parameters\n",
    "xmin = 0\n",
    "xmax = 2*np.pi\n",
    "ymin = 0\n",
    "ymax = 2*np.pi\n",
    "zmin = 0\n",
    "zmax = 2*np.pi\n",
    "\n",
    "nx = 101\n",
    "ny = 102\n",
    "nz = 103\n",
    "\n",
    "x,dx = np.linspace(xmin,xmax,nx,retstep=True)\n",
    "y,dy = np.linspace(ymin,ymax,ny,retstep=True)\n",
    "z,dz = np.linspace(zmin,zmax,nz,retstep=True)"
   ]
  },
  {
   "cell_type": "code",
   "execution_count": 75,
   "metadata": {},
   "outputs": [],
   "source": [
    "class LinearSpecialInterpolator:\n",
    "    \"\"\"\n",
    "    LinearSpecialInterpolator(xi,x,y,z)\n",
    "        \n",
    "    A collection of methods to perform linear interpolation with direction correction,\n",
    "    of three-dimensional strain eigenvectors.\n",
    "        \n",
    "    param: xi -- NumPy array of shape (len(x),len(y),len(z),3), containing the eigenvectors xi\n",
    "                 given at the grid points spanned by x, y and z\n",
    "    param: x  -- 1D NumPy array containing the grid point coordinates along the x abscissa\n",
    "    param: y  -- 1D NumPy array containing the grid point coordinates along the x abscissa\n",
    "    param: z  -- 1D NumPy array containing the grid point coordinates along the x abscissa\n",
    "    \n",
    "    ******************************************************************************************\n",
    "    \n",
    "    Methods defined here:\n",
    "    \n",
    "    LinearSpecialInterpolator.__call__(x)\n",
    "    \n",
    "    Performs the aforementioned special linear interpolation of the eigenvector xi at\n",
    "    the point x.\n",
    "    \n",
    "    param: x -- Three-component NumPy array, containing the coordinates at which a linear\n",
    "                special interpolation of xi is sought; (x,y,z).\n",
    "        \n",
    "    return: Three-component NumPy array, containing the normalized linearly interpolated\n",
    "            xi value at the point x.\n",
    "    \"\"\"\n",
    "    def __init__(self,xi,x,y,z):\n",
    "        self.xi = xi\n",
    "        self.nx = xi.shape[0]\n",
    "        self.ny = xi.shape[1]\n",
    "        self.nz = xi.shape[2]\n",
    "        self.dx = x[1]-x[0]\n",
    "        self.dy = y[1]-y[0]\n",
    "        self.dz = z[1]-z[0]\n",
    "        self.x_min = x[0]\n",
    "        self.x_max = x[-1]\n",
    "        self.y_min = y[0]\n",
    "        self.y_max = y[-1]\n",
    "        self.z_min = z[0]\n",
    "        self.z_max = z[-1]\n",
    "        self.version = '0.1' # To keep track of changes as we go along\n",
    "    \n",
    "    def __call__(self,x):\n",
    "        x, ix, ixp1, y, iy, iyp1, z, iz, izp1 = self._compute_indices_and_weights(x[0],x[1],x[2])\n",
    "        cubevecs = [self.xi[ix,iy,iz],\n",
    "                    self.xi[ixp1,iy,iz],\n",
    "                    self.xi[ix,iyp1,iz],\n",
    "                    self.xi[ixp1,iyp1,iz],\n",
    "                    self.xi[ix,iy,izp1],\n",
    "                    self.xi[ixp1,iy,izp1],\n",
    "                    self.xi[ix,iyp1,izp1],\n",
    "                    self.xi[ixp1,iyp1,izp1]]\n",
    "        print(ix,iy,iz)\n",
    "        # Flip vectors 180 degrees if they are rotated more than 90 degrees with regards to\n",
    "        # an arbitrary reference point within the interpolation voxel\n",
    "        for vec in cubevecs:\n",
    "            if cubevecs[0].dot(vec) < 0:\n",
    "                vec = -vec\n",
    "        \n",
    "        # \n",
    "        return LinearSpecialInterpolator._normalized_weighted_sum(cubevecs,x,y,z)\n",
    "    \n",
    "    def _compute_indices_and_weights(self,x,y,z):\n",
    "        \"\"\"\n",
    "        param: x -- x-coordinate of the point at which a linear special interpolation of xi\n",
    "                    is sought\n",
    "        param: y -- y-coordinate of the point at which a linear special interpolation of xi\n",
    "                    is sought\n",
    "        param: z -- z-coordinate of the point at which a linear special interpolation of xi\n",
    "                    is sought\n",
    "                    \n",
    "        return: x    -- Normalized relative coordinate within the interpolation voxel\n",
    "        return: ix   -- Index indicating the corners of the interpolation voxel\n",
    "        return: ixp1 -- Index indicating the corners of the interpolation voxel\n",
    "        return: y    -- Normalized relative coordinate within the interpolation voxel\n",
    "        return: iy   -- Index indicating the corners of the interpolation voxel\n",
    "        return: iyp1 -- Index indicating the corners of the interpolation voxel\n",
    "        return: z    -- Normalized relative coordinate within the interpolation voxel\n",
    "        return: iz   -- Index indicating the corners of the interpolation voxel\n",
    "        return: izp1 -- Index indicating the corners of the interpolation voxel\n",
    "        \"\"\"\n",
    "        x = np.fmod((x-self.x_min)/self.dx,self.nx)\n",
    "        y = np.fmod((y-self.y_min)/self.dy,self.nz)\n",
    "        z = np.fmod((z-self.z_min)/self.dy,self.nz)\n",
    "        \n",
    "        while x < 0:\n",
    "            x += self.nx\n",
    "        while y < 0:\n",
    "            y += self.ny\n",
    "        while z < 0:\n",
    "            z += self.nz\n",
    "            \n",
    "        ix = np.floor(x).astype(int)\n",
    "        iy = np.floor(y).astype(int)\n",
    "        iz = np.floor(z).astype(int)\n",
    "        \n",
    "        x -= ix\n",
    "        y -= iy\n",
    "        z -= iz\n",
    "        \n",
    "        ixp1 = int((ix+1)%self.nx)\n",
    "        iyp1 = int((iy+1)%self.ny)\n",
    "        izp1 = int((iz+1)%self.nz)\n",
    "        \n",
    "        return x, ix, ixp1, y, iy, iyp1, z, iz, izp1\n",
    "    \n",
    "    @staticmethod\n",
    "    def _normalized_weighted_sum(cubevecs,x,y,z):\n",
    "        \"\"\"\n",
    "        param: cubevecs -- List of xi vectors defined at the corners of the interpolation voxel\n",
    "        param:        x -- Normalized relative coordinate within the interpolation voxel\n",
    "        param:        y -- Normalized relative coordinate within the interpolation voxel\n",
    "        param:        z -- Normalized relative coordinate within the interpolation voxel\n",
    "        \n",
    "        return:     vec -- Normalized linearly interpolated xi vector \n",
    "        \"\"\"\n",
    "        vec = ((cubevecs[0]*(1-x) + cubevecs[1]*x)*(1-y) + (cubevecs[2]*(1-x) + cubevecs[3]*x)*y)*(1-z)  \\\n",
    "                +((cubevecs[4]*(1-x) + cubevecs[5]*x)*(1-y) + (cubevecs[6]*(1-x) + cubevecs[7]*x)*y)*z\n",
    "        return vec/np.linalg.norm(vec)"
   ]
  },
  {
   "cell_type": "code",
   "execution_count": 91,
   "metadata": {},
   "outputs": [],
   "source": [
    "%%cython\n",
    "\n",
    "cimport cython\n",
    "cimport numpy as np\n",
    "import numpy as np\n",
    "\n",
    "from libc.math cimport fmod as c_fmod,\\\n",
    "                       floor as c_floor,\\\n",
    "                       sqrt as c_sqrt\n",
    "    \n",
    "from scipy.linalg.cython_blas cimport ddot as cy_ddot\n",
    "\n",
    "cdef class CyLinSpecInterp:\n",
    "    cdef:\n",
    "        double[:,:,:,::1] xi\n",
    "        int nx, ny, nz\n",
    "        double dx, dy, dz\n",
    "        double x_min, x_max\n",
    "        double y_min, y_max\n",
    "        double z_min, z_max\n",
    "        \n",
    "    @cython.initializedcheck(False)\n",
    "    @cython.wraparound(False)\n",
    "    def __cinit__(self, double[:,:,:,::1] xi, double[::1] x, double[::1] y, double[::1] z):\n",
    "        self.xi = xi\n",
    "        self.nx = x.shape[0]\n",
    "        self.ny = y.shape[0]\n",
    "        self.nz = z.shape[0]\n",
    "        self.dx = x[1]-x[0]\n",
    "        self.dy = y[1]-y[0]\n",
    "        self.dz = z[1]-z[0]\n",
    "        self.x_min = x[0]\n",
    "        self.x_max = x[self.nx-1]\n",
    "        self.y_min = y[0]\n",
    "        self.y_max = y[self.ny-1]\n",
    "        self.z_min = z[0]\n",
    "        self.z_max = z[self.nz-1]\n",
    "        \n",
    "    def __call__(self, double[::1] pos):\n",
    "        cdef:\n",
    "            double x = pos[0], y = pos[1], z = pos[2]\n",
    "            int ix, iy, iz, ixp1, iyp1, izp1\n",
    "            double cubevecs[8][3]\n",
    "            double[:,::1] cv\n",
    "            int i, j\n",
    "            double vec[3]\n",
    "            \n",
    "        self._compute_indices_and_weights(&x, &y, &z, &ix, &iy, &iz, &ixp1, &iyp1, &izp1)\n",
    "        \n",
    "        print(ix,iy,iz)\n",
    "        \n",
    "        for i in range(3):\n",
    "            cubevecs[0][i] = self.xi[ix,iy,iz,i]\n",
    "            cubevecs[1][i] = self.xi[ixp1,iy,iz,i]\n",
    "            cubevecs[2][i] = self.xi[ix,iyp1,iz,i]\n",
    "            cubevecs[3][i] = self.xi[ixp1,iyp1,iz,i]\n",
    "            cubevecs[4][i] = self.xi[ix,iy,izp1,i]\n",
    "            cubevecs[5][i] = self.xi[ixp1,iy,izp1,i]\n",
    "            cubevecs[6][i] = self.xi[ix,iyp1,izp1,i]\n",
    "            cubevecs[7][i] = self.xi[ixp1,iyp1,izp1,i]\n",
    "        \n",
    "        v1 = cubevecs[i]\n",
    "        for i in range(8):\n",
    "            if self._blas_dotproduct_(cubevecs[i], cubevecs[0]) < 0:\n",
    "                for j in range(3):\n",
    "                    cubevecs[i][j] = -cubevecs[i][j]\n",
    "            \n",
    "        cv = cubevecs\n",
    "        self._normalized_weighted_sum(cv, x, y, z, &vec[0])\n",
    "        return np.asarray(vec)\n",
    "        \n",
    "    @cython.initializedcheck(False)\n",
    "    @cython.wraparound(False)\n",
    "    @cython.cdivision(True)\n",
    "    cdef _compute_indices_and_weights(self, double *x, double *y, double *z,\n",
    "                                            int *ix, int *iy, int *iz,\n",
    "                                            int *ixp1, int *iyp1, int *izp1):\n",
    "        x[0] = c_fmod((x[0]-self.x_min)/self.dx,self.nx)\n",
    "        y[0] = c_fmod((y[0]-self.y_min)/self.dy,self.nz)\n",
    "        z[0] = c_fmod((z[0]-self.z_min)/self.dy,self.nz)\n",
    "        while x[0] < 0:\n",
    "            x[0] += self.nx\n",
    "        while y[0] < 0:\n",
    "            y[0] += self.ny\n",
    "        while z[0] < 0:\n",
    "            z[0] += self.nz\n",
    "            \n",
    "        ix[0] = int(c_floor(x[0]))\n",
    "        iy[0] = int(c_floor(y[0]))\n",
    "        iz[0] = int(c_floor(z[0]))\n",
    "        \n",
    "        x[0] -= ix[0]\n",
    "        y[0] -= iy[0]\n",
    "        z[0] -= iz[0]\n",
    "        \n",
    "        ixp1[0] = int((ix[0]+1)%self.nx)\n",
    "        iyp1[0] = int((iy[0]+1)%self.ny)\n",
    "        izp1[0] = int((iz[0]+1)%self.nz)\n",
    "    \n",
    "    cdef double _blas_dotproduct_(self,double *x, double *y):\n",
    "        cdef:\n",
    "            int N = 3\n",
    "            int INCX = 1, INCY = 1\n",
    "        \n",
    "        return cy_ddot(&N, &x[0], &INCX, &y[0], &INCY)\n",
    "    \n",
    "    @cython.initializedcheck(False)\n",
    "    @cython.wraparound(False)\n",
    "    @cython.cdivision(True)\n",
    "    cdef _normalized_weighted_sum(self,double[:,::1] cubevecs, double x,double y,double z, double *vec):\n",
    "        cdef:\n",
    "            long i\n",
    "            double nrm\n",
    "        for i in range(3):\n",
    "            vec[i] = ((cubevecs[0,i]*(1-x)+cubevecs[1,i]*x)*(1-y) + (cubevecs[2,i]*(1-x)+cubevecs[3,i]*x)*y)*(1-z)\\\n",
    "                    +((cubevecs[4,i]*(1-x)+cubevecs[5,i]*x)*(1-y) + (cubevecs[6,i]*(1-x)+cubevecs[7,i]*x)*y)*z\n",
    "        \n",
    "        nrm = c_sqrt(self._blas_dotproduct_(vec,vec))\n",
    "        for i in range(3):\n",
    "            vec[i] /= nrm"
   ]
  },
  {
   "cell_type": "code",
   "execution_count": 92,
   "metadata": {},
   "outputs": [],
   "source": [
    "foo = LinearSpecialInterpolator(xi1,x,y,z)"
   ]
  },
  {
   "cell_type": "code",
   "execution_count": 93,
   "metadata": {},
   "outputs": [],
   "source": [
    "bar = CyLinSpecInterp(xi1,x,y,z)"
   ]
  },
  {
   "cell_type": "code",
   "execution_count": 94,
   "metadata": {},
   "outputs": [
    {
     "name": "stdout",
     "output_type": "stream",
     "text": [
      "1 1 1\n"
     ]
    },
    {
     "data": {
      "text/plain": [
       "array([-0.64777056,  0.2446508 ,  0.72148409])"
      ]
     },
     "execution_count": 94,
     "metadata": {},
     "output_type": "execute_result"
    }
   ],
   "source": [
    "foo(pos)"
   ]
  },
  {
   "cell_type": "code",
   "execution_count": 95,
   "metadata": {},
   "outputs": [
    {
     "name": "stdout",
     "output_type": "stream",
     "text": [
      "1 1 1\n"
     ]
    },
    {
     "data": {
      "text/plain": [
       "array([-0.64777056,  0.2446508 ,  0.72148409])"
      ]
     },
     "execution_count": 95,
     "metadata": {},
     "output_type": "execute_result"
    }
   ],
   "source": [
    "bar(pos)"
   ]
  },
  {
   "cell_type": "code",
   "execution_count": 70,
   "metadata": {},
   "outputs": [
    {
     "data": {
      "text/plain": [
       "0.06159985595274104"
      ]
     },
     "execution_count": 70,
     "metadata": {},
     "output_type": "execute_result"
    }
   ],
   "source": [
    "dz"
   ]
  },
  {
   "cell_type": "code",
   "execution_count": 96,
   "metadata": {},
   "outputs": [
    {
     "data": {
      "text/plain": [
       "array([-0.58229712,  0.37665909,  0.7204568 ])"
      ]
     },
     "execution_count": 96,
     "metadata": {},
     "output_type": "execute_result"
    }
   ],
   "source": [
    "xi1[2,2,2]"
   ]
  },
  {
   "cell_type": "code",
   "execution_count": 57,
   "metadata": {},
   "outputs": [],
   "source": [
    "pos = np.array([0.12,0.12,0.12])"
   ]
  },
  {
   "cell_type": "code",
   "execution_count": 37,
   "metadata": {},
   "outputs": [
    {
     "name": "stdout",
     "output_type": "stream",
     "text": [
      "81.4 µs ± 1.7 µs per loop (mean ± std. dev. of 7 runs, 10000 loops each)\n"
     ]
    }
   ],
   "source": [
    "%timeit foo(pos)"
   ]
  },
  {
   "cell_type": "code",
   "execution_count": 39,
   "metadata": {},
   "outputs": [
    {
     "name": "stdout",
     "output_type": "stream",
     "text": [
      "4.14 µs ± 37.1 ns per loop (mean ± std. dev. of 7 runs, 100000 loops each)\n"
     ]
    }
   ],
   "source": [
    "%timeit bar(pos)"
   ]
  },
  {
   "cell_type": "code",
   "execution_count": 58,
   "metadata": {},
   "outputs": [
    {
     "data": {
      "text/plain": [
       "array([-0.64777056,  0.2446508 ,  0.72148409])"
      ]
     },
     "execution_count": 58,
     "metadata": {},
     "output_type": "execute_result"
    }
   ],
   "source": [
    "foo(pos)"
   ]
  },
  {
   "cell_type": "code",
   "execution_count": 59,
   "metadata": {},
   "outputs": [
    {
     "data": {
      "text/plain": [
       "array([-0.57735027,  0.70710678, -0.40824829])"
      ]
     },
     "execution_count": 59,
     "metadata": {},
     "output_type": "execute_result"
    }
   ],
   "source": [
    "bar(pos)"
   ]
  },
  {
   "cell_type": "code",
   "execution_count": 50,
   "metadata": {},
   "outputs": [
    {
     "name": "stdout",
     "output_type": "stream",
     "text": [
      "81.3 µs ± 4 µs per loop (mean ± std. dev. of 7 runs, 10000 loops each)\n"
     ]
    }
   ],
   "source": [
    "%timeit foo(pos)"
   ]
  },
  {
   "cell_type": "code",
   "execution_count": 52,
   "metadata": {},
   "outputs": [
    {
     "name": "stdout",
     "output_type": "stream",
     "text": [
      "5.33 µs ± 92.1 ns per loop (mean ± std. dev. of 7 runs, 100000 loops each)\n"
     ]
    }
   ],
   "source": [
    "%timeit bar(pos)"
   ]
  },
  {
   "cell_type": "code",
   "execution_count": 53,
   "metadata": {},
   "outputs": [],
   "source": [
    "a = bar(pos)"
   ]
  },
  {
   "cell_type": "code",
   "execution_count": 54,
   "metadata": {},
   "outputs": [
    {
     "data": {
      "text/plain": [
       "1.0"
      ]
     },
     "execution_count": 54,
     "metadata": {},
     "output_type": "execute_result"
    }
   ],
   "source": [
    "np.linalg.norm(a)"
   ]
  },
  {
   "cell_type": "code",
   "execution_count": 56,
   "metadata": {},
   "outputs": [
    {
     "data": {
      "text/plain": [
       "array([0.        , 0.06220976, 0.12441951, 0.18662927, 0.24883902,\n",
       "       0.31104878, 0.37325853, 0.43546829, 0.49767804, 0.5598878 ,\n",
       "       0.62209756, 0.68430731, 0.74651707, 0.80872682, 0.87093658,\n",
       "       0.93314633, 0.99535609, 1.05756584, 1.1197756 , 1.18198535,\n",
       "       1.24419511, 1.30640487, 1.36861462, 1.43082438, 1.49303413,\n",
       "       1.55524389, 1.61745364, 1.6796634 , 1.74187315, 1.80408291,\n",
       "       1.86629267, 1.92850242, 1.99071218, 2.05292193, 2.11513169,\n",
       "       2.17734144, 2.2395512 , 2.30176095, 2.36397071, 2.42618047,\n",
       "       2.48839022, 2.55059998, 2.61280973, 2.67501949, 2.73722924,\n",
       "       2.799439  , 2.86164875, 2.92385851, 2.98606826, 3.04827802,\n",
       "       3.11048778, 3.17269753, 3.23490729, 3.29711704, 3.3593268 ,\n",
       "       3.42153655, 3.48374631, 3.54595606, 3.60816582, 3.67037558,\n",
       "       3.73258533, 3.79479509, 3.85700484, 3.9192146 , 3.98142435,\n",
       "       4.04363411, 4.10584386, 4.16805362, 4.23026338, 4.29247313,\n",
       "       4.35468289, 4.41689264, 4.4791024 , 4.54131215, 4.60352191,\n",
       "       4.66573166, 4.72794142, 4.79015117, 4.85236093, 4.91457069,\n",
       "       4.97678044, 5.0389902 , 5.10119995, 5.16340971, 5.22561946,\n",
       "       5.28782922, 5.35003897, 5.41224873, 5.47445849, 5.53666824,\n",
       "       5.598878  , 5.66108775, 5.72329751, 5.78550726, 5.84771702,\n",
       "       5.90992677, 5.97213653, 6.03434629, 6.09655604, 6.1587658 ,\n",
       "       6.22097555, 6.28318531])"
      ]
     },
     "execution_count": 56,
     "metadata": {},
     "output_type": "execute_result"
    }
   ],
   "source": [
    "y"
   ]
  },
  {
   "cell_type": "code",
   "execution_count": 61,
   "metadata": {},
   "outputs": [
    {
     "data": {
      "text/plain": [
       "array([-0.58229712,  0.37665909,  0.7204568 ])"
      ]
     },
     "execution_count": 61,
     "metadata": {},
     "output_type": "execute_result"
    }
   ],
   "source": [
    "xi1[2,2,2]"
   ]
  },
  {
   "cell_type": "code",
   "execution_count": 62,
   "metadata": {},
   "outputs": [
    {
     "data": {
      "text/plain": [
       "(101, 102, 103, 3)"
      ]
     },
     "execution_count": 62,
     "metadata": {},
     "output_type": "execute_result"
    }
   ],
   "source": [
    "xi1.shape"
   ]
  },
  {
   "cell_type": "code",
   "execution_count": 101,
   "metadata": {},
   "outputs": [],
   "source": [
    "x1 = np.linspace(0,2,40)\n",
    "y1 = np.sin(np.pi*x1)"
   ]
  },
  {
   "cell_type": "code",
   "execution_count": 102,
   "metadata": {},
   "outputs": [],
   "source": [
    "from matplotlib import pyplot as plt"
   ]
  },
  {
   "cell_type": "code",
   "execution_count": 103,
   "metadata": {},
   "outputs": [
    {
     "data": {
      "text/plain": [
       "[<matplotlib.lines.Line2D at 0x7f630a1200f0>]"
      ]
     },
     "execution_count": 103,
     "metadata": {},
     "output_type": "execute_result"
    },
    {
     "data": {
      "image/png": "[encoded data removed]",
      "text/plain": [
       "<matplotlib.figure.Figure at 0x7f630a78feb8>"
      ]
     },
     "metadata": {},
     "output_type": "display_data"
    }
   ],
   "source": [
    "plt.plot(x1,y1)"
   ]
  },
  {
   "cell_type": "code",
   "execution_count": 104,
   "metadata": {},
   "outputs": [],
   "source": [
    "ind = 27\n",
    "inds = [ind-1, ind, ind+1, ind+2]"
   ]
  },
  {
   "cell_type": "code",
   "execution_count": 130,
   "metadata": {},
   "outputs": [],
   "source": [
    "def func(t):\n",
    "    larr = np.array([t**3,t**2,t,1])\n",
    "    fac = 1/6\n",
    "    mat1 = np.array([[-1,3,-3,1],[3,-6,3,0],[-3,0,3,0],[1,4,1,0]])\n",
    "    rvc = np.array([x1[inds],y1[inds]]).T\n",
    "    return larr.dot(fac*mat1.dot(rvc))"
   ]
  },
  {
   "cell_type": "code",
   "execution_count": 131,
   "metadata": {},
   "outputs": [
    {
     "data": {
      "text/plain": [
       "array([ 1.43589744, -0.97556131])"
      ]
     },
     "execution_count": 131,
     "metadata": {},
     "output_type": "execute_result"
    }
   ],
   "source": [
    "func(1)"
   ]
  },
  {
   "cell_type": "code",
   "execution_count": 132,
   "metadata": {},
   "outputs": [],
   "source": [
    "ts = np.linspace(0,1,100)\n",
    "xs2, ys2 = func(ts)"
   ]
  },
  {
   "cell_type": "code",
   "execution_count": 135,
   "metadata": {},
   "outputs": [
    {
     "data": {
      "text/plain": [
       "[<matplotlib.lines.Line2D at 0x7f6309bb1a20>]"
      ]
     },
     "execution_count": 135,
     "metadata": {},
     "output_type": "execute_result"
    },
    {
     "data": {
      "image/png": "[encoded data removed]",
      "text/plain": [
       "<matplotlib.figure.Figure at 0x7f6309bb12e8>"
      ]
     },
     "metadata": {},
     "output_type": "display_data"
    }
   ],
   "source": [
    "plt.scatter(xs2,ys2)\n",
    "plt.plot(xs2,np.sin(np.pi*xs2))"
   ]
  },
  {
   "cell_type": "code",
   "execution_count": 138,
   "metadata": {},
   "outputs": [
    {
     "data": {
      "text/plain": [
       "0.009381727477013648"
      ]
     },
     "execution_count": 138,
     "metadata": {},
     "output_type": "execute_result"
    }
   ],
   "source": [
    "np.sqrt((x1[1]-x1[0])*np.sum((ys2-np.sin(np.pi*xs2))**2))"
   ]
  },
  {
   "cell_type": "code",
   "execution_count": null,
   "metadata": {},
   "outputs": [],
   "source": []
  }
 ],
 "metadata": {
  "kernelspec": {
   "display_name": "Python [conda root]",
   "language": "python",
   "name": "conda-root-py"
  },
  "language_info": {
   "codemirror_mode": {
    "name": "ipython",
    "version": 3
   },
   "file_extension": ".py",
   "mimetype": "text/x-python",
   "name": "python",
   "nbconvert_exporter": "python",
   "pygments_lexer": "ipython3",
   "version": "3.6.4"
  },
  "latex_envs": {
   "LaTeX_envs_menu_present": true,
   "autocomplete": true,
   "bibliofile": "biblio.bib",
   "cite_by": "apalike",
   "current_citInitial": 1,
   "eqLabelWithNumbers": true,
   "eqNumInitial": 1,
   "hotkeys": {
    "equation": "Ctrl-E",
    "itemize": "Ctrl-I"
   },
   "labels_anchors": false,
   "latex_user_defs": false,
   "report_style_numbering": false,
   "user_envs_cfg": false
  }
 },
 "nbformat": 4,
 "nbformat_minor": 2
}
